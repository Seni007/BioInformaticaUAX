{
 "cells": [
  {
   "cell_type": "markdown",
   "id": "a5e64ba5",
   "metadata": {},
   "source": [
    "# Extrae el número de secuencias que hay en el archivo"
   ]
  },
  {
   "cell_type": "raw",
   "id": "ef052b19",
   "metadata": {},
   "source": [
    "# Usamos grep para contar el numero de secuencias (lineas que empiezan con '>')\n",
    "sequence_count=$(grep -c '>' \"Multifasta.fa.rtf\")\n",
    "\n",
    "# Mostramos el numero de secuencias\n",
    "echo \"Number of sequences in Multifasta.fa.rtf: $sequence_count\""
   ]
  },
  {
   "cell_type": "markdown",
   "id": "004a0095",
   "metadata": {},
   "source": [
    "<img width=\"1500\" src=\"SS1.png\">"
   ]
  },
  {
   "cell_type": "markdown",
   "id": "3219ee41",
   "metadata": {},
   "source": [
    "# Extrae el identificador de las secuencias"
   ]
  },
  {
   "cell_type": "raw",
   "id": "5cde5026",
   "metadata": {},
   "source": [
    "# Usamos grep para extraer los identifacodres de la secuencia (lineas que empiezan por '>')\n",
    "sequence_identifiers=$(grep -E '>' \"Multifasta.fa.rtf\")\n",
    "\n",
    "# Mostramos los identificadores extraidos con echo\n",
    "echo \"Sequence Identifiers in Multifasta.fa.rtf:\"\n",
    "echo \"$sequence_identifiers\""
   ]
  },
  {
   "cell_type": "markdown",
   "id": "4b19b414",
   "metadata": {},
   "source": [
    "<img width=\"1000\" src=\"SS2.png\">"
   ]
  },
  {
   "cell_type": "raw",
   "id": "1378013b",
   "metadata": {},
   "source": [
    "# Utilizo nano para crear un archivo .sh y guardar ahi los identificadores \n",
    "nano extract_identifiers.sh"
   ]
  },
  {
   "cell_type": "markdown",
   "id": "dc4f2761",
   "metadata": {},
   "source": [
    "<img width=\"1000\" src=\"SS3.png\">"
   ]
  },
  {
   "cell_type": "markdown",
   "id": "6767eabb",
   "metadata": {},
   "source": [
    "# Extrae el organismo de cada secuencia"
   ]
  },
  {
   "cell_type": "raw",
   "id": "dbf57b71",
   "metadata": {},
   "source": [
    "# Usamos grep con una expresión regular para extraer la información del organismo \n",
    "# La información que queremos está entre : y \\\n",
    "organism_info=$(grep -Eo '\\[.*\\]' \"Multifasta.fa.rtf\")\n",
    "\n",
    "# Mostramos la información extraida del organismo\n",
    "echo \"Organism Information in Multifasta.fa.rtf:\" \"$organism_info\""
   ]
  },
  {
   "cell_type": "markdown",
   "id": "97c4738d",
   "metadata": {},
   "source": [
    "<img width=\"1000\" src=\"SS4.png\">"
   ]
  },
  {
   "cell_type": "raw",
   "id": "71eb0213",
   "metadata": {},
   "source": [
    "# Utilizo nano para crear un archivo .sh y guardar ahi los identificadores \n",
    "nano extract_organisms.sh"
   ]
  },
  {
   "cell_type": "markdown",
   "id": "339b70ff",
   "metadata": {},
   "source": [
    "<img width=\"1000\" src=\"SS5.png\">"
   ]
  },
  {
   "cell_type": "markdown",
   "id": "3dc35da7",
   "metadata": {},
   "source": [
    "# Extrae las subsecuencias de tu archivo multifasta que empiecen por ATGC y que acaben por GTAA. ¿Hay alguna?"
   ]
  },
  {
   "cell_type": "raw",
   "id": "da324ae4",
   "metadata": {},
   "source": [
    "# Tras muchos intentos fallidos usando grep sacamos las secuencias que empiecen por ATGC y terminan por GTAA\n",
    "grep -E -o \"ATGC.*GTAA\" Multifasta.fa.rtf > subsequences_ATGC-GTAA"
   ]
  },
  {
   "cell_type": "markdown",
   "id": "886edd5b",
   "metadata": {},
   "source": [
    "<img width=\"1000\" src=\"SS6.png\">"
   ]
  },
  {
   "cell_type": "markdown",
   "id": "2a4561e8",
   "metadata": {},
   "source": [
    "<img width=\"1000\" src=\"SS7.png\">"
   ]
  },
  {
   "cell_type": "markdown",
   "id": "24a0b34e",
   "metadata": {},
   "source": [
    "# Las enzimas de restricción FokI, HphI y Tail unen las secuencias GGATG, GGTGA y ACGT. ¿Hay algún sitio de unión en tu archivo? Si hay, ¿cuántos son de cada una? ¿Puedes indicar en qué línea están cada uno?"
   ]
  },
  {
   "cell_type": "raw",
   "id": "93d718cc",
   "metadata": {},
   "source": [
    "# Buscamos GGATG, los contamos y buscamos la linea\n",
    "ggatg_count=$(grep -c 'GGATG' Multifasta.fa.rft)\n",
    "ggatg_lines=$(grep -n 'GGATG' Multifasta.fa.rft)\n",
    "\n",
    "# Hacemos los mismo para GGTGA\n",
    "ggtga_count=$(grep -c 'GGTGA' Multifasta.fa.rft)\n",
    "ggtga_lines=$(grep -n 'GGTGA' Multifasta.fa.rft)\n",
    "\n",
    "# Y los sitios ACGT \n",
    "acgt_count=$(grep -c 'ACGT' Multifasta.fa.rft)\n",
    "acgt_lines=$(grep -n 'ACGT' Multifasta.fa.rft)\n",
    "\n",
    "# Para que nos devuelva los datos usamos echo\n",
    "echo \"GGATG count: $ggatg_count\"\n",
    "echo \"GGATG line numbers: $ggatg_lines\"\n",
    "\n",
    "echo \"GGTGA count: $ggtga_count\"\n",
    "echo \"GGTGA line numbers: $ggtga_lines\"\n",
    "\n",
    "echo \"ACGT count: $acgt_count\"\n",
    "echo \"ACGT line numbers: $acgt_lines\"\n"
   ]
  },
  {
   "cell_type": "markdown",
   "id": "a7c50e5c",
   "metadata": {},
   "source": [
    "<img width=\"1000\" src=\"SS8.1.png\">"
   ]
  },
  {
   "cell_type": "markdown",
   "id": "6550ec84",
   "metadata": {},
   "source": [
    "<img width=\"1000\" src=\"SS9.png\">"
   ]
  },
  {
   "cell_type": "markdown",
   "id": "0be0d512",
   "metadata": {},
   "source": [
    "<img width=\"1000\" src=\"SS10.png\">"
   ]
  },
  {
   "cell_type": "markdown",
   "id": "aed5b505",
   "metadata": {},
   "source": [
    "# En el archivo PDB que has obtenido haz los siguiente:\n",
    "## 1. ¿Cuántas cadenas tiene tu proteína?"
   ]
  },
  {
   "cell_type": "markdown",
   "id": "7d381dea",
   "metadata": {},
   "source": [
    "<img width=\"1000\" src=\"SS11.png\">"
   ]
  },
  {
   "cell_type": "code",
   "execution_count": 6,
   "id": "ca7d76e1",
   "metadata": {},
   "outputs": [],
   "source": [
    "# Tiene 10 "
   ]
  },
  {
   "cell_type": "markdown",
   "id": "362dd28d",
   "metadata": {},
   "source": [
    "## 2. Elimina todas las líneas que contenga información sobre puentes de hidrógeno. Guarda en un archivo nuevo"
   ]
  },
  {
   "cell_type": "raw",
   "id": "02e4da54",
   "metadata": {},
   "source": [
    "grep -v 'HETATM' CFTR.pdb > cleaned_CFTR_protein.pdb"
   ]
  },
  {
   "cell_type": "markdown",
   "id": "c0e95242",
   "metadata": {},
   "source": [
    "## 3. Cambia las PHE por ALA. Guarda en un archivo nuevo"
   ]
  },
  {
   "cell_type": "raw",
   "id": "f7a0294c",
   "metadata": {},
   "source": [
    "sed 's/PHE/ALA/g' CFTR.pdb > modified_protein.pdb"
   ]
  },
  {
   "cell_type": "markdown",
   "id": "814ccd7f",
   "metadata": {},
   "source": [
    "<img width=\"1500\" src=\"SS1.png\">"
   ]
  },
  {
   "cell_type": "markdown",
   "id": "3c322ece",
   "metadata": {},
   "source": [
    "<img width=\"250\" src=\"SS13.png\">"
   ]
  },
  {
   "cell_type": "code",
   "execution_count": null,
   "id": "e21640c0",
   "metadata": {},
   "outputs": [],
   "source": []
  }
 ],
 "metadata": {
  "kernelspec": {
   "display_name": "Python 3 (ipykernel)",
   "language": "python",
   "name": "python3"
  },
  "language_info": {
   "codemirror_mode": {
    "name": "ipython",
    "version": 3
   },
   "file_extension": ".py",
   "mimetype": "text/x-python",
   "name": "python",
   "nbconvert_exporter": "python",
   "pygments_lexer": "ipython3",
   "version": "3.11.4"
  }
 },
 "nbformat": 4,
 "nbformat_minor": 5
}

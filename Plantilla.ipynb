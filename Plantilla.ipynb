{
 "cells": [
  {
   "cell_type": "markdown",
   "id": "ab7280e9",
   "metadata": {},
   "source": [
    "# PLANTILLA\n",
    "## Esto es una plantilla para futuros trabajos\n",
    "### Esto sería otro nivel menor\n",
    "#### Y este otro todavía más bajo\n",
    "\n",
    "Aquí puedo hacer lo siguiente:\n",
    "1. Escribir comentarios, texto, etc.\n",
    "2. Correr cualquier instrucción de bash, python, R. Por ejemplo `print(\"hola\")` para imprimir en pantalla \"hola\".\n",
    "3. Meter imágenes\n",
    "4. Ejecutar código"
   ]
  },
  {
   "cell_type": "code",
   "execution_count": 1,
   "id": "da8e753a",
   "metadata": {},
   "outputs": [
    {
     "name": "stdout",
     "output_type": "stream",
     "text": [
      "hola\n"
     ]
    }
   ],
   "source": [
    "print(\"hola\")"
   ]
  },
  {
   "cell_type": "markdown",
   "id": "ea033b35",
   "metadata": {},
   "source": [
    "<img width=\"150\" src=\"llama.jpg\">"
   ]
  }
 ],
 "metadata": {
  "kernelspec": {
   "display_name": "Python 3 (ipykernel)",
   "language": "python",
   "name": "python3"
  },
  "language_info": {
   "codemirror_mode": {
    "name": "ipython",
    "version": 3
   },
   "file_extension": ".py",
   "mimetype": "text/x-python",
   "name": "python",
   "nbconvert_exporter": "python",
   "pygments_lexer": "ipython3",
   "version": "3.11.4"
  }
 },
 "nbformat": 4,
 "nbformat_minor": 5
}

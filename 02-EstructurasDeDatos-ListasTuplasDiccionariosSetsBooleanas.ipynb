{
 "cells": [
  {
   "cell_type": "markdown",
   "id": "1404f345",
   "metadata": {},
   "source": [
    "### LISTAS"
   ]
  },
  {
   "cell_type": "code",
   "execution_count": 1,
   "id": "5276d26b",
   "metadata": {},
   "outputs": [],
   "source": [
    "mi_lista = [1,2,3]"
   ]
  },
  {
   "cell_type": "code",
   "execution_count": 2,
   "id": "cf316093",
   "metadata": {},
   "outputs": [],
   "source": [
    "# Podemos reasignar sus valores\n",
    "mi_lista = ['Una string',23,100.232,'o']"
   ]
  },
  {
   "cell_type": "code",
   "execution_count": 3,
   "id": "b4fa0a66",
   "metadata": {},
   "outputs": [
    {
     "data": {
      "text/plain": [
       "['Una string', 23, 100.232, 'o']"
      ]
     },
     "execution_count": 3,
     "metadata": {},
     "output_type": "execute_result"
    }
   ],
   "source": [
    "mi_lista"
   ]
  },
  {
   "cell_type": "code",
   "execution_count": 4,
   "id": "84e2e574",
   "metadata": {},
   "outputs": [
    {
     "data": {
      "text/plain": [
       "4"
      ]
     },
     "execution_count": 4,
     "metadata": {},
     "output_type": "execute_result"
    }
   ],
   "source": [
    "# Podemos medir su longitud\n",
    "len(mi_lista)"
   ]
  },
  {
   "cell_type": "code",
   "execution_count": 5,
   "id": "ec50645c",
   "metadata": {},
   "outputs": [
    {
     "data": {
      "text/plain": [
       "'Una string'"
      ]
     },
     "execution_count": 5,
     "metadata": {},
     "output_type": "execute_result"
    }
   ],
   "source": [
    "# Podemos acceder a partes de la lista\n",
    "mi_lista[0]"
   ]
  },
  {
   "cell_type": "code",
   "execution_count": 6,
   "id": "821f27bb",
   "metadata": {},
   "outputs": [
    {
     "data": {
      "text/plain": [
       "[23, 100.232, 'o']"
      ]
     },
     "execution_count": 6,
     "metadata": {},
     "output_type": "execute_result"
    }
   ],
   "source": [
    "mi_lista[1:]"
   ]
  },
  {
   "cell_type": "code",
   "execution_count": 7,
   "id": "bbb6c0d7",
   "metadata": {},
   "outputs": [
    {
     "data": {
      "text/plain": [
       "['Una string', 23, 100.232]"
      ]
     },
     "execution_count": 7,
     "metadata": {},
     "output_type": "execute_result"
    }
   ],
   "source": [
    "mi_lista[:3]"
   ]
  },
  {
   "cell_type": "code",
   "execution_count": 8,
   "id": "1349e092",
   "metadata": {},
   "outputs": [
    {
     "data": {
      "text/plain": [
       "['Una string', 23, 100.232, 'o', 'nuevo']"
      ]
     },
     "execution_count": 8,
     "metadata": {},
     "output_type": "execute_result"
    }
   ],
   "source": [
    "# Podemos añadir nuevos elementos o concatenar\n",
    "mi_lista + ['nuevo']"
   ]
  },
  {
   "cell_type": "code",
   "execution_count": 9,
   "id": "8bf7fa87",
   "metadata": {},
   "outputs": [
    {
     "data": {
      "text/plain": [
       "['Una string', 23, 100.232, 'o']"
      ]
     },
     "execution_count": 9,
     "metadata": {},
     "output_type": "execute_result"
    }
   ],
   "source": [
    "mi_lista"
   ]
  },
  {
   "cell_type": "code",
   "execution_count": 10,
   "id": "e7a04266",
   "metadata": {},
   "outputs": [],
   "source": [
    "# Añadir la información a ella misma para que se guarde la info\n",
    "mi_lista = mi_lista + ['nuevo elemento']"
   ]
  },
  {
   "cell_type": "code",
   "execution_count": 11,
   "id": "c8609ebd",
   "metadata": {},
   "outputs": [
    {
     "data": {
      "text/plain": [
       "['Una string', 23, 100.232, 'o', 'nuevo elemento']"
      ]
     },
     "execution_count": 11,
     "metadata": {},
     "output_type": "execute_result"
    }
   ],
   "source": [
    "mi_lista"
   ]
  },
  {
   "cell_type": "code",
   "execution_count": 12,
   "id": "c7f57a83",
   "metadata": {},
   "outputs": [],
   "source": [
    "# Otra forma de concatenar\n",
    "mi_lista.append('otro')"
   ]
  },
  {
   "cell_type": "code",
   "execution_count": 13,
   "id": "e943b2ba",
   "metadata": {
    "scrolled": true
   },
   "outputs": [
    {
     "data": {
      "text/plain": [
       "['Una string',\n",
       " 23,\n",
       " 100.232,\n",
       " 'o',\n",
       " 'nuevo elemento',\n",
       " 'otro',\n",
       " 'Una string',\n",
       " 23,\n",
       " 100.232,\n",
       " 'o',\n",
       " 'nuevo elemento',\n",
       " 'otro']"
      ]
     },
     "execution_count": 13,
     "metadata": {},
     "output_type": "execute_result"
    }
   ],
   "source": [
    "# Podemos aumentar su tamaño\n",
    "mi_lista*2"
   ]
  },
  {
   "cell_type": "code",
   "execution_count": 14,
   "id": "98fa16d1",
   "metadata": {},
   "outputs": [
    {
     "data": {
      "text/plain": [
       "['Una string', 23, 100.232, 'o', 'nuevo elemento']"
      ]
     },
     "execution_count": 14,
     "metadata": {},
     "output_type": "execute_result"
    }
   ],
   "source": [
    "# Podemos quitar el último elemento (permanentemente)\n",
    "mi_lista.pop()\n",
    "mi_lista"
   ]
  },
  {
   "cell_type": "code",
   "execution_count": 15,
   "id": "5ddbbc44",
   "metadata": {},
   "outputs": [
    {
     "data": {
      "text/plain": [
       "['nuevo elemento', 'o', 100.232, 23, 'Una string']"
      ]
     },
     "execution_count": 15,
     "metadata": {},
     "output_type": "execute_result"
    }
   ],
   "source": [
    "# Podemos darle la vuelta a la lista con reverse(). De forma permanente. \n",
    "# Si metes un índice dentro de los parentesis puedes quetar algo en específico \n",
    "mi_lista.reverse()\n",
    "mi_lista"
   ]
  },
  {
   "cell_type": "code",
   "execution_count": 16,
   "id": "6fc44671",
   "metadata": {},
   "outputs": [
    {
     "data": {
      "text/plain": [
       "[1, 5, 6, 34, 100]"
      ]
     },
     "execution_count": 16,
     "metadata": {},
     "output_type": "execute_result"
    }
   ],
   "source": [
    "# Podemos ordenarla una lista alfabéticamente o numéricamente\n",
    "prueba = [5,1,6,100,34]\n",
    "prueba.sort()\n",
    "prueba"
   ]
  },
  {
   "cell_type": "code",
   "execution_count": 17,
   "id": "0d528c48",
   "metadata": {},
   "outputs": [
    {
     "data": {
      "text/plain": [
       "[[1, 2, 3], [4, 5, 6], [7, 8, 9]]"
      ]
     },
     "execution_count": 17,
     "metadata": {},
     "output_type": "execute_result"
    }
   ],
   "source": [
    "# Hacemos una matriz\n",
    "lst_1=[1,2,3]\n",
    "lst_2=[4,5,6]\n",
    "lst_3=[7,8,9]\n",
    "\n",
    "matrix = [lst_1,lst_2,lst_3]\n",
    "matrix"
   ]
  },
  {
   "cell_type": "code",
   "execution_count": 21,
   "id": "055338a0",
   "metadata": {},
   "outputs": [
    {
     "data": {
      "text/plain": [
       "[1, 2, 3]"
      ]
     },
     "execution_count": 21,
     "metadata": {},
     "output_type": "execute_result"
    }
   ],
   "source": [
    "# Para acceder a datos\n",
    "matrix[0]\n"
   ]
  },
  {
   "cell_type": "code",
   "execution_count": 22,
   "id": "24a01819",
   "metadata": {},
   "outputs": [
    {
     "data": {
      "text/plain": [
       "5"
      ]
     },
     "execution_count": 22,
     "metadata": {},
     "output_type": "execute_result"
    }
   ],
   "source": [
    "matrix[1][1]"
   ]
  },
  {
   "cell_type": "code",
   "execution_count": 19,
   "id": "0fd5bc0e",
   "metadata": {},
   "outputs": [
    {
     "data": {
      "text/plain": [
       "1"
      ]
     },
     "execution_count": 19,
     "metadata": {},
     "output_type": "execute_result"
    }
   ],
   "source": [
    "matrix[0][0]"
   ]
  },
  {
   "cell_type": "code",
   "execution_count": 23,
   "id": "90f839bf",
   "metadata": {},
   "outputs": [
    {
     "data": {
      "text/plain": [
       "[1, 4, 7]"
      ]
     },
     "execution_count": 23,
     "metadata": {},
     "output_type": "execute_result"
    }
   ],
   "source": [
    "# List comprehensions. Aquí lo que estamos haciendo es sacar el primer elemento de matrix\n",
    "first_col = [row[0] for row in matrix]\n",
    "first_col"
   ]
  },
  {
   "cell_type": "markdown",
   "id": "8d2ed501",
   "metadata": {},
   "source": [
    "### DICCIONARIOS"
   ]
  },
  {
   "cell_type": "code",
   "execution_count": 24,
   "id": "86d28803",
   "metadata": {},
   "outputs": [
    {
     "data": {
      "text/plain": [
       "{'key1': 'value1', 'key2': 'value2'}"
      ]
     },
     "execution_count": 24,
     "metadata": {},
     "output_type": "execute_result"
    }
   ],
   "source": [
    "# Para acceder al valor 1 hay que primero acceder a la llave \n",
    "# Podemos meter todos los valores que queramos en una llave\n",
    "mi_dict = {'key1':'value1','key2':'value2'}\n",
    "mi_dict"
   ]
  },
  {
   "cell_type": "code",
   "execution_count": 25,
   "id": "0a04d862",
   "metadata": {},
   "outputs": [
    {
     "data": {
      "text/plain": [
       "{'key1': 123, 'key2': [12, 23, 33], 'key3': ['item0', 'item1', 'item2']}"
      ]
     },
     "execution_count": 25,
     "metadata": {},
     "output_type": "execute_result"
    }
   ],
   "source": [
    "mi_dict = {'key1':123,'key2':[12,23,33],'key3':['item0','item1','item2']}\n",
    "mi_dict"
   ]
  },
  {
   "cell_type": "code",
   "execution_count": 26,
   "id": "50a5ea0c",
   "metadata": {},
   "outputs": [
    {
     "data": {
      "text/plain": [
       "123"
      ]
     },
     "execution_count": 26,
     "metadata": {},
     "output_type": "execute_result"
    }
   ],
   "source": [
    "# Vamos a acceder a los elementos de un diccionario\n",
    "mi_dict['key1']"
   ]
  },
  {
   "cell_type": "code",
   "execution_count": 27,
   "id": "68a6cb3b",
   "metadata": {},
   "outputs": [
    {
     "data": {
      "text/plain": [
       "'item0'"
      ]
     },
     "execution_count": 27,
     "metadata": {},
     "output_type": "execute_result"
    }
   ],
   "source": [
    "mi_dict['key3'][0]"
   ]
  },
  {
   "cell_type": "code",
   "execution_count": 28,
   "id": "384b0572",
   "metadata": {},
   "outputs": [
    {
     "data": {
      "text/plain": [
       "'ITEM0'"
      ]
     },
     "execution_count": 28,
     "metadata": {},
     "output_type": "execute_result"
    }
   ],
   "source": [
    "# Podemos incluso llamar a funciones sobre esos valores\n",
    "mi_dict['key3'][0].upper()"
   ]
  },
  {
   "cell_type": "code",
   "execution_count": 29,
   "id": "0a655db1",
   "metadata": {},
   "outputs": [
    {
     "data": {
      "text/plain": [
       "{'key1': 123, 'key2': [12, 23, 33], 'key3': ['item0', 'item1', 'item2']}"
      ]
     },
     "execution_count": 29,
     "metadata": {},
     "output_type": "execute_result"
    }
   ],
   "source": [
    "mi_dict"
   ]
  },
  {
   "cell_type": "code",
   "execution_count": 30,
   "id": "def55b91",
   "metadata": {},
   "outputs": [
    {
     "data": {
      "text/plain": [
       "{'key1': 0, 'key2': [12, 23, 33], 'key3': ['item0', 'item1', 'item2']}"
      ]
     },
     "execution_count": 30,
     "metadata": {},
     "output_type": "execute_result"
    }
   ],
   "source": [
    "# Podemos cambiar los valores de las keys\n",
    "mi_dict['key1'] = mi_dict['key1'] - 123\n",
    "mi_dict"
   ]
  },
  {
   "cell_type": "code",
   "execution_count": 31,
   "id": "7e0b3214",
   "metadata": {},
   "outputs": [
    {
     "data": {
      "text/plain": [
       "123"
      ]
     },
     "execution_count": 31,
     "metadata": {},
     "output_type": "execute_result"
    }
   ],
   "source": [
    "# El += significa sumate a ti mismo - mas eficiente que el de arriba\n",
    "mi_dict['key1'] += 123\n",
    "mi_dict['key1']"
   ]
  },
  {
   "cell_type": "code",
   "execution_count": 32,
   "id": "7727d9f4",
   "metadata": {},
   "outputs": [
    {
     "data": {
      "text/plain": [
       "{'animal': 'Perro', 'respuesta': 42}"
      ]
     },
     "execution_count": 32,
     "metadata": {},
     "output_type": "execute_result"
    }
   ],
   "source": [
    "# Podemos crear nuevas keys\n",
    "d = {}\n",
    "d['animal'] = 'Perro'\n",
    "d['respuesta'] = 42\n",
    "d"
   ]
  },
  {
   "cell_type": "code",
   "execution_count": 33,
   "id": "0ac4a9b9",
   "metadata": {},
   "outputs": [
    {
     "data": {
      "text/plain": [
       "{'animal': 'Perro',\n",
       " 'respuesta': 42,\n",
       " 'nestedKey': {'key1': 123,\n",
       "  'key2': [12, 23, 33],\n",
       "  'key3': ['item0', 'item1', 'item2']}}"
      ]
     },
     "execution_count": 33,
     "metadata": {},
     "output_type": "execute_result"
    }
   ],
   "source": [
    "# Podemos meter un diccionario dentro de otro\n",
    "d['nestedKey']=mi_dict\n",
    "d"
   ]
  },
  {
   "cell_type": "code",
   "execution_count": 34,
   "id": "93957064",
   "metadata": {},
   "outputs": [
    {
     "data": {
      "text/plain": [
       "dict_keys(['animal', 'respuesta', 'nestedKey'])"
      ]
     },
     "execution_count": 34,
     "metadata": {},
     "output_type": "execute_result"
    }
   ],
   "source": [
    "# Podemos devolver todas las keys\n",
    "d.keys()"
   ]
  },
  {
   "cell_type": "code",
   "execution_count": 35,
   "id": "2c739edb",
   "metadata": {},
   "outputs": [
    {
     "data": {
      "text/plain": [
       "dict_items([('animal', 'Perro'), ('respuesta', 42), ('nestedKey', {'key1': 123, 'key2': [12, 23, 33], 'key3': ['item0', 'item1', 'item2']})])"
      ]
     },
     "execution_count": 35,
     "metadata": {},
     "output_type": "execute_result"
    }
   ],
   "source": [
    "# Podemos devolver todos los valores (como tuplas, ¡ya lo veremos!)\n",
    "d.items()"
   ]
  },
  {
   "cell_type": "markdown",
   "id": "31eb8900",
   "metadata": {},
   "source": [
    "### TUPLAS"
   ]
  },
  {
   "cell_type": "code",
   "execution_count": 36,
   "id": "61e43a7d",
   "metadata": {},
   "outputs": [
    {
     "data": {
      "text/plain": [
       "3"
      ]
     },
     "execution_count": 36,
     "metadata": {},
     "output_type": "execute_result"
    }
   ],
   "source": [
    "# Las listas se pueden modificar y las tuplas no \n",
    "t = (1,2,3)\n",
    "len(t)"
   ]
  },
  {
   "cell_type": "code",
   "execution_count": 37,
   "id": "f4623896",
   "metadata": {},
   "outputs": [
    {
     "data": {
      "text/plain": [
       "(1, 2, 3)"
      ]
     },
     "execution_count": 37,
     "metadata": {},
     "output_type": "execute_result"
    }
   ],
   "source": [
    "t"
   ]
  },
  {
   "cell_type": "code",
   "execution_count": 38,
   "id": "928ab1b3",
   "metadata": {},
   "outputs": [
    {
     "data": {
      "text/plain": [
       "('uno', 2)"
      ]
     },
     "execution_count": 38,
     "metadata": {},
     "output_type": "execute_result"
    }
   ],
   "source": [
    "# Las tuplas pueden tener elementos de distinto tipo\n",
    "t = ('uno',2)\n",
    "t"
   ]
  },
  {
   "cell_type": "code",
   "execution_count": 39,
   "id": "81f37776",
   "metadata": {},
   "outputs": [
    {
     "data": {
      "text/plain": [
       "'uno'"
      ]
     },
     "execution_count": 39,
     "metadata": {},
     "output_type": "execute_result"
    }
   ],
   "source": [
    "# Podemos acceder a sus elementos pero no cambiarlos, se accede con corchetes\n",
    "t[0]"
   ]
  },
  {
   "cell_type": "code",
   "execution_count": 40,
   "id": "cc2f3e6e",
   "metadata": {},
   "outputs": [
    {
     "ename": "TypeError",
     "evalue": "'tuple' object does not support item assignment",
     "output_type": "error",
     "traceback": [
      "\u001b[0;31m---------------------------------------------------------------------------\u001b[0m",
      "\u001b[0;31mTypeError\u001b[0m                                 Traceback (most recent call last)",
      "Cell \u001b[0;32mIn[40], line 1\u001b[0m\n\u001b[0;32m----> 1\u001b[0m t[\u001b[38;5;241m0\u001b[39m]\u001b[38;5;241m=\u001b[39m\u001b[38;5;241m0\u001b[39m\n",
      "\u001b[0;31mTypeError\u001b[0m: 'tuple' object does not support item assignment"
     ]
    }
   ],
   "source": [
    "t[0]=0"
   ]
  },
  {
   "cell_type": "code",
   "execution_count": 41,
   "id": "aceaf44b",
   "metadata": {},
   "outputs": [
    {
     "data": {
      "text/plain": [
       "2"
      ]
     },
     "execution_count": 41,
     "metadata": {},
     "output_type": "execute_result"
    }
   ],
   "source": [
    "# Nos muestra el último elemento \n",
    "t[-1]"
   ]
  },
  {
   "cell_type": "code",
   "execution_count": 42,
   "id": "2a1a79f8",
   "metadata": {},
   "outputs": [
    {
     "data": {
      "text/plain": [
       "0"
      ]
     },
     "execution_count": 42,
     "metadata": {},
     "output_type": "execute_result"
    }
   ],
   "source": [
    "# Usamos index() para retornar el valor de un índice - para encontrar la posición un elemento\n",
    "t.index('uno')"
   ]
  },
  {
   "cell_type": "code",
   "execution_count": 43,
   "id": "848bd0b6",
   "metadata": {},
   "outputs": [
    {
     "data": {
      "text/plain": [
       "1"
      ]
     },
     "execution_count": 43,
     "metadata": {},
     "output_type": "execute_result"
    }
   ],
   "source": [
    "# También podemos contar el número de veces que aparece un item en la tupla\n",
    "t.count('uno')"
   ]
  },
  {
   "cell_type": "code",
   "execution_count": 44,
   "id": "a1841190",
   "metadata": {},
   "outputs": [
    {
     "ename": "AttributeError",
     "evalue": "'tuple' object has no attribute 'append'",
     "output_type": "error",
     "traceback": [
      "\u001b[0;31m---------------------------------------------------------------------------\u001b[0m",
      "\u001b[0;31mAttributeError\u001b[0m                            Traceback (most recent call last)",
      "Cell \u001b[0;32mIn[44], line 2\u001b[0m\n\u001b[1;32m      1\u001b[0m \u001b[38;5;66;03m# Las tuplas tampoco pueden crecer\u001b[39;00m\n\u001b[0;32m----> 2\u001b[0m t\u001b[38;5;241m.\u001b[39mappend(\u001b[38;5;124m'\u001b[39m\u001b[38;5;124mtres\u001b[39m\u001b[38;5;124m'\u001b[39m)\n",
      "\u001b[0;31mAttributeError\u001b[0m: 'tuple' object has no attribute 'append'"
     ]
    }
   ],
   "source": [
    "# Las tuplas tampoco pueden crecer\n",
    "t.append('tres')"
   ]
  },
  {
   "cell_type": "markdown",
   "id": "ae64057a",
   "metadata": {},
   "source": [
    "### SETS"
   ]
  },
  {
   "cell_type": "code",
   "execution_count": 45,
   "id": "c61ed16c",
   "metadata": {},
   "outputs": [
    {
     "data": {
      "text/plain": [
       "set"
      ]
     },
     "execution_count": 45,
     "metadata": {},
     "output_type": "execute_result"
    }
   ],
   "source": [
    "# El set es un vector de valores únicos \n",
    "x = set()\n",
    "type(x)"
   ]
  },
  {
   "cell_type": "code",
   "execution_count": 46,
   "id": "9d0fa6cd",
   "metadata": {},
   "outputs": [
    {
     "data": {
      "text/plain": [
       "{1}"
      ]
     },
     "execution_count": 46,
     "metadata": {},
     "output_type": "execute_result"
    }
   ],
   "source": [
    "# Añadimos elementos con .add(). ¡Fíjate en los corchetes!!!! Como las keys de los diccionarios\n",
    "x.add(1)\n",
    "x"
   ]
  },
  {
   "cell_type": "code",
   "execution_count": 47,
   "id": "2e8c5ea5",
   "metadata": {},
   "outputs": [
    {
     "data": {
      "text/plain": [
       "{1, 2}"
      ]
     },
     "execution_count": 47,
     "metadata": {},
     "output_type": "execute_result"
    }
   ],
   "source": [
    "x.add(2)\n",
    "x"
   ]
  },
  {
   "cell_type": "code",
   "execution_count": 48,
   "id": "1f41ae77",
   "metadata": {},
   "outputs": [
    {
     "data": {
      "text/plain": [
       "{1, 2}"
      ]
     },
     "execution_count": 48,
     "metadata": {},
     "output_type": "execute_result"
    }
   ],
   "source": [
    "# No nos deja añadir duplicados. Solo deja uno de cada uno, sirve para quitar duplicados \n",
    "x.add(1)\n",
    "x"
   ]
  },
  {
   "cell_type": "code",
   "execution_count": 49,
   "id": "f64ab7d4",
   "metadata": {},
   "outputs": [
    {
     "data": {
      "text/plain": [
       "{1, 2, 3, 4, 5, 6}"
      ]
     },
     "execution_count": 49,
     "metadata": {},
     "output_type": "execute_result"
    }
   ],
   "source": [
    "# Fíjate que nos elimina los duplicados!\n",
    "list1 = [1,1,2,2,3,4,5,6,1,1]\n",
    "set(list1)"
   ]
  },
  {
   "cell_type": "markdown",
   "id": "7a976d68",
   "metadata": {},
   "source": [
    "### BOOLEANS"
   ]
  },
  {
   "cell_type": "code",
   "execution_count": 50,
   "id": "2a1a0475",
   "metadata": {},
   "outputs": [
    {
     "data": {
      "text/plain": [
       "bool"
      ]
     },
     "execution_count": 50,
     "metadata": {},
     "output_type": "execute_result"
    }
   ],
   "source": [
    "# Añadimos el valor true a una variable \n",
    "a = True\n",
    "type(a)"
   ]
  },
  {
   "cell_type": "code",
   "execution_count": 51,
   "id": "dc0f90b3",
   "metadata": {},
   "outputs": [
    {
     "data": {
      "text/plain": [
       "False"
      ]
     },
     "execution_count": 51,
     "metadata": {},
     "output_type": "execute_result"
    }
   ],
   "source": [
    "# Aquí la salida sería el booleano\n",
    "1>2"
   ]
  },
  {
   "cell_type": "code",
   "execution_count": 52,
   "id": "745e0c24",
   "metadata": {},
   "outputs": [
    {
     "data": {
      "text/plain": [
       "NoneType"
      ]
     },
     "execution_count": 52,
     "metadata": {},
     "output_type": "execute_result"
    }
   ],
   "source": [
    "# None nos sirve para no assignar un tipo de objeto\n",
    "b = None\n",
    "type(b)"
   ]
  },
  {
   "cell_type": "code",
   "execution_count": 53,
   "id": "05df477a",
   "metadata": {},
   "outputs": [
    {
     "data": {
      "text/plain": [
       "True"
      ]
     },
     "execution_count": 53,
     "metadata": {},
     "output_type": "execute_result"
    }
   ],
   "source": [
    "# Comparaciones igualdad\n",
    "2==2"
   ]
  },
  {
   "cell_type": "code",
   "execution_count": 54,
   "id": "5a7aa696",
   "metadata": {},
   "outputs": [
    {
     "data": {
      "text/plain": [
       "False"
      ]
     },
     "execution_count": 54,
     "metadata": {},
     "output_type": "execute_result"
    }
   ],
   "source": [
    "1==0"
   ]
  },
  {
   "cell_type": "code",
   "execution_count": 55,
   "id": "7cc86b98",
   "metadata": {},
   "outputs": [
    {
     "data": {
      "text/plain": [
       "True"
      ]
     },
     "execution_count": 55,
     "metadata": {},
     "output_type": "execute_result"
    }
   ],
   "source": [
    "# No igualdad\n",
    "2 != 1"
   ]
  },
  {
   "cell_type": "code",
   "execution_count": 56,
   "id": "86dc2765",
   "metadata": {},
   "outputs": [
    {
     "data": {
      "text/plain": [
       "True"
      ]
     },
     "execution_count": 56,
     "metadata": {},
     "output_type": "execute_result"
    }
   ],
   "source": [
    "# Mayor o menor que\n",
    "2<4"
   ]
  },
  {
   "cell_type": "code",
   "execution_count": 57,
   "id": "9539d9f4",
   "metadata": {},
   "outputs": [
    {
     "data": {
      "text/plain": [
       "True"
      ]
     },
     "execution_count": 57,
     "metadata": {},
     "output_type": "execute_result"
    }
   ],
   "source": [
    "# Mayor o menor o igual que\n",
    "2 <=2"
   ]
  },
  {
   "cell_type": "code",
   "execution_count": 58,
   "id": "bd32fbb2",
   "metadata": {},
   "outputs": [
    {
     "data": {
      "text/plain": [
       "True"
      ]
     },
     "execution_count": 58,
     "metadata": {},
     "output_type": "execute_result"
    }
   ],
   "source": [
    "# También podemos encadenar operadores de comparación\n",
    "1 < 2 < 3"
   ]
  },
  {
   "cell_type": "code",
   "execution_count": 59,
   "id": "5d1e88e2",
   "metadata": {},
   "outputs": [
    {
     "data": {
      "text/plain": [
       "True"
      ]
     },
     "execution_count": 59,
     "metadata": {},
     "output_type": "execute_result"
    }
   ],
   "source": [
    "# O podemos usar AND. Ambas condiciones debe ser verdad \n",
    "1<2 and 2<3"
   ]
  },
  {
   "cell_type": "code",
   "execution_count": 60,
   "id": "babd1b8f",
   "metadata": {},
   "outputs": [
    {
     "data": {
      "text/plain": [
       "True"
      ]
     },
     "execution_count": 60,
     "metadata": {},
     "output_type": "execute_result"
    }
   ],
   "source": [
    "# También podemos usar OR. Solo necesita que una de las condicones sea verdad\n",
    "1 == 2 or 2 <3"
   ]
  }
 ],
 "metadata": {
  "kernelspec": {
   "display_name": "Python 3 (ipykernel)",
   "language": "python",
   "name": "python3"
  },
  "language_info": {
   "codemirror_mode": {
    "name": "ipython",
    "version": 3
   },
   "file_extension": ".py",
   "mimetype": "text/x-python",
   "name": "python",
   "nbconvert_exporter": "python",
   "pygments_lexer": "ipython3",
   "version": "3.11.4"
  }
 },
 "nbformat": 4,
 "nbformat_minor": 5
}

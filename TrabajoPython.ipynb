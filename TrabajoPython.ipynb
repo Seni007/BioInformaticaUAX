{
 "cells": [
  {
   "cell_type": "markdown",
   "metadata": {},
   "source": [
    "# TRABAJO DE PYTHON\n",
    "\n",
    "### Este trabajo cuenta el 30% de la nota. La entrega será el 5 de Noviembre a las 23:59.\n",
    "\n",
    "### Resuelve los siguientes ejercicios en Python sin usar expresiones regulares\n",
    "\n",
    "#### Utiliza tantas celdas de código como necesites\n",
    "\n",
    "##\n",
    "\n",
    "\n",
    "\n",
    "\n",
    "\n",
    "\n",
    "\n"
   ]
  },
  {
   "cell_type": "markdown",
   "metadata": {},
   "source": [
    "### 1.- BUSCA LA SECUENCIA COMPLEMENTARIA\n",
    "#### Devuelve la secuencia complementaria de la siguiente secuencia de ADN"
   ]
  },
  {
   "cell_type": "code",
   "execution_count": 30,
   "metadata": {},
   "outputs": [],
   "source": [
    "my_dna = \"ACTGATCGATTACGTATAGTATTTGCTATCATACATATATATCGATGCGTTCAT\""
   ]
  },
  {
   "cell_type": "code",
   "execution_count": 62,
   "metadata": {},
   "outputs": [
    {
     "name": "stdout",
     "output_type": "stream",
     "text": [
      "TGACTAGCTAATGCATATCATAAACGATACTTAAGGTATGTATATATAGCTACGCAAGTA\n"
     ]
    }
   ],
   "source": [
    "def complement_ADN(sequence):\n",
    "    complement = {'A': 'T', 'T': 'A', 'C': 'G', 'G': 'C'}\n",
    "    complementary = [complement[base] for base in sequence]\n",
    "    return ''.join(complementary)\n",
    "\n",
    "complementary_sequence = complement_ADN(my_dna)\n",
    "\n",
    "print(complementary_sequence)"
   ]
  },
  {
   "cell_type": "markdown",
   "metadata": {},
   "source": [
    "### Pasos: \n",
    "#### 1. Definimos una función llamada \"complement_ADN\" que toma una secuencia de ADN como argumento.\n",
    "#### 2. Dentro de la función, creamos un diccionario llamado complemento que mapea cada base.\n",
    "#### 3. Creamos una lista llamada \"complementary\". En esta lista, se recorre cada base en la secuencia de ADN de entrada y se busca su complemento en el diccionario complemento. Luego, se agrega el complemento correspondiente a la lista complementaria.\n",
    "#### 4. Utilizamos el método join para concatenar los elementos de la lista complementaria en una cadena única que representa la secuencia complementaria.\n",
    "#### 5. Fuera de la función, declaramos una variable llamada \"my_dna\" que contiene la secuencia de ADN. Luego, llamamos a la función \"complement_ADN\" con \"my_dna\" como argumento y almacenamos el resultado en la variable \"secuencia_complementaria\"."
   ]
  },
  {
   "cell_type": "markdown",
   "metadata": {},
   "source": [
    "##\n",
    "### 2.- FRAGMENTOS DE RESTRICCION\n",
    "#### Obtén los fragmentos de restricción de EcoRI, que tiene un sitio de corte en G*AATTC (la posición de corte se indica por el *).\n",
    "#### No uses expresiones regulares. \n",
    "#### Pista: utiliza la función find()"
   ]
  },
  {
   "cell_type": "code",
   "execution_count": 32,
   "metadata": {
    "scrolled": true
   },
   "outputs": [],
   "source": [
    "my_dna = \"ACTGATCGATTACGTATAGTATTTGCTATGAATTCCATACATATATATCGATGCGTTCAT\""
   ]
  },
  {
   "cell_type": "code",
   "execution_count": 33,
   "metadata": {
    "scrolled": true
   },
   "outputs": [
    {
     "name": "stdout",
     "output_type": "stream",
     "text": [
      "Fragment 1: ACTGATCGATTACGTATAGTATTTGCTATG\n",
      "Fragment 2: AATTCCATACATATATATCGATGCGTTCAT\n"
     ]
    }
   ],
   "source": [
    "ecori_cut_site = my_dna.find(\"GAATTC\")\n",
    "\n",
    "if ecori_cut_site != -1:\n",
    "    frag1 = my_dna[:ecori_cut_site + 1]\n",
    "    frag2 = my_dna[ecori_cut_site + 1:]\n",
    "\n",
    "    print(\"Fragment 1:\", frag1)\n",
    "    print(\"Fragment 2:\", frag2)\n",
    "else:\n",
    "    print(\"EcoRI no encontrado en la secuencia de ADN.\")"
   ]
  },
  {
   "cell_type": "markdown",
   "metadata": {},
   "source": [
    "### Pasos \n",
    "#### 1. Definimos la cadena my_dna, que contiene la secuencia de ADN en la que queremos buscar el sitio de corte de EcoRI.\n",
    "#### 2. Usamos find() en my_dna para buscar la posición del sitio de corte de EcoRI, que es \"GAATTC\". find() devuelve la posición de la primera ocurrencia de la cadena buscada, o -1 si no la encuentra. Almacenamos esta posición en la variable ecori_cut_site.\n",
    "#### 3. Comprobamos si ecori_cut_site no es igual a -1, lo que significa que hemos encontrado el sitio de corte de EcoRI en la secuencia de ADN.\n",
    "#### 4. Si hemos encontrado el sitio de corte de EcoRI, dividimos la cadena en dos fragmentos. Para ello, utilizamos la notación de segmentación de cadenas en Python.\n",
    "##### a) fragment1 contiene todo desde el principio de la cadena hasta el sitio de corte (ecori_cut_site + 1). Esto incluye el sitio de corte.\n",
    "##### b) fragment2 contiene todo desde el sitio de corte (ecori_cut_site + 1) hasta el final de la cadena.\n",
    "#### 5. Finalmente, imprimimos los dos fragmentos resultantes en la consola para mostrar los fragmentos de restricción de EcoRI."
   ]
  },
  {
   "cell_type": "markdown",
   "metadata": {},
   "source": [
    "##\n",
    "### 3.- ENCUENTRA LOS EXONES\n",
    "#### Encuentra los exones en la siguiente secuencia\n",
    "1. El primer exón va de la primera base a la base 63 (empieza a contar desde 0)\n",
    "2. El segundo exón va de la base 91 (contando desde 0) hasta el final\n",
    "3. Calcula el porcentaje de secuencia codificante\n",
    "4. Imprime en pantalla la secuencia original con los exones en mayúsculas y los intrones en minúsculas"
   ]
  },
  {
   "cell_type": "code",
   "execution_count": 34,
   "metadata": {},
   "outputs": [],
   "source": [
    "genomic_dna = \"ATCGATCGATCGATCGACTGACTAGTCATAGCTATGCATGTAGCTACTCGATCGATCGATCGATCGATCGATCGATCGATCGATCATGCTATCATCGATCGATATCGATGCATCGACTACTAT\""
   ]
  },
  {
   "cell_type": "code",
   "execution_count": 66,
   "metadata": {
    "scrolled": true
   },
   "outputs": [
    {
     "name": "stdout",
     "output_type": "stream",
     "text": [
      "First Exon: ATCGATCGATCGATCGACTGACTAGTCATAGCTATGCATGTAGCTACTCGATCGATCGATCGA\n",
      "\n",
      "\n",
      "Second Exon: TCATCGATCGATATCGATGCATCGACTACTAT\n",
      "\n",
      "\n",
      "Percentage of Codifying Sequence: 77.23577235772358 %\n",
      "\n",
      "\n",
      "Sequence with Exons in UpperCase and Introns in LowerCase:\n",
      "ATCGATCGATCGATCGACTGACTAGTCATAGCTATGCATGTAGCTACTCGATCGATCGATCGAtcgatcgatcgatcgatcgatcatgctaTCATCGATCGATATCGATGCATCGACTACTAT\n"
     ]
    }
   ],
   "source": [
    "# 1\n",
    "first_exon_start = 0\n",
    "first_exon_end = 63\n",
    "second_exon_start = 91\n",
    "\n",
    "# 2\n",
    "first_exon = genomic_dna[first_exon_start:first_exon_end]\n",
    "second_exon = genomic_dna[second_exon_start:]\n",
    "introns = genomic_dna[first_exon_end:second_exon_start]\n",
    "\n",
    "# 3\n",
    "codif_length = len(first_exon) + len(second_exon)\n",
    "\n",
    "# 4\n",
    "codif_percentage = (codif_length / len(genomic_dna)) * 100\n",
    "\n",
    "# 5\n",
    "secuence_with_exons = genomic_dna[:first_exon_start] + first_exon.upper() + introns.lower() + second_exon.upper()\n",
    "\n",
    "# 6\n",
    "print(\"First Exon:\", first_exon)\n",
    "print(\"\\n\")\n",
    "print(\"Second Exon:\", second_exon)\n",
    "print(\"\\n\")\n",
    "print(\"Percentage of Codifying Sequence:\", codif_percentage, \"%\")\n",
    "print(\"\\n\")\n",
    "print(\"Sequence with Exons in UpperCase and Introns in LowerCase:\")\n",
    "print(secuence_with_exons)"
   ]
  },
  {
   "cell_type": "markdown",
   "metadata": {},
   "source": [
    "### Pasos: \n",
    "#### 1. Primero establecemos los puntos de inicio y fin de los exones\n",
    "#### 2. Después obtenemos los exones e intrones \n",
    "#### 3. Calculamos la longitud de la secuencia codificante (exones)\n",
    "#### 4. Calculamos el porcentaje de secuencia codificante\n",
    "#### 5. Crear la secuencia con exones en mayúsculas e intrones en minúsculas\n",
    "#### 6. Imprimimos resultados. El (\"n\\\") es para que haya un salto de linea entre cada linea de texto\n"
   ]
  },
  {
   "cell_type": "markdown",
   "metadata": {},
   "source": [
    "##\n",
    "### 4.- ESCRIBE UN ARCHIVO FASTA\n",
    "#### Escribe un archivo FASTA que tenga las siguientes secuencias:\n",
    "1. ABC123 \tATCGTACGATCGATCGATCGCTAGACGTATCG\n",
    "2. DEF456 \tactgatcgacgatcgatcgatcacgact\n",
    "3. HIJ789 \tACTGAC-ACTGT--ACTGTA----CATGTG\n",
    "\n",
    "###### *Ten en cuenta que todas las secuencias deben tener solo ATGC caracteres y tienen que estar en mayúsculas\n",
    "###### Recuerda que las secuencias en FASTA empiezan por una línea \">identificador\" y la siguiente línea tiene la secuencia\n",
    "\n",
    "###### >ABC123\n",
    "###### ATCGTACGATCGATCGATCGCTAGACGTATCG\n",
    "###### >DEF456\n",
    "###### ACTGATCGACGATCGATCGATCACGACT\n",
    "###### >HIJ789\n",
    "###### ACTGACACTGTACTGTACATGTG"
   ]
  },
  {
   "cell_type": "code",
   "execution_count": 36,
   "metadata": {
    "scrolled": true
   },
   "outputs": [
    {
     "name": "stdout",
     "output_type": "stream",
     "text": [
      "ABC123\n",
      "ATCGTACGATCGATCGATCGCTAGACGTATCG\n",
      "DEF456\n",
      "actgatcgacgatcgatcgatcacgact\n",
      "HIJ789\n",
      "ACTGAC-ACTGT--ACTGTA----CATGTG\n"
     ]
    }
   ],
   "source": [
    "d={\n",
    "    'ABC123' :'ATCGTACGATCGATCGATCGCTAGACGTATCG',\n",
    "    'DEF456' : 'actgatcgacgatcgatcgatcacgact',\n",
    "    'HIJ789' : 'ACTGAC-ACTGT--ACTGTA----CATGTG'\n",
    "}\n",
    "\n",
    "for key in d.keys():\n",
    "    print(key)\n",
    "    print(d[key])"
   ]
  },
  {
   "cell_type": "code",
   "execution_count": 37,
   "metadata": {},
   "outputs": [],
   "source": [
    "with open('d.fasta', 'w') as fasta_file:\n",
    "    for identifier, sequence in d.items():\n",
    "        sequence = sequence.upper().replace('-', '').replace('--', '').replace('----', '')\n",
    "        fasta_file.write(f'>{identifier}\\n{sequence}\\n')"
   ]
  },
  {
   "cell_type": "markdown",
   "metadata": {},
   "source": [
    "### Pasos\n",
    "#### 1. Definición del diccionario d (ya dado): Creamos un diccionario llamado sequences que contiene las secuencias que quieres guardar en el archivo FASTA. Cada secuencia está asociada a una clave que actúa como identificador \n",
    "#### 2. Apertura del archivo FASTA: Usamos with open('d.fasta', 'w') as fasta_file: para abrir un archivo llamado \"d.fasta\". Este archivo es donde guardamos las secuencias en formato FASTA. La declaración with es para que el archivo se cierre correctamente después de su uso.\n",
    "#### 3. Recorrido del diccionario: Usamos un bucle for para recorrer el diccionario sequences. En cada iteración, obtenemos el identificador y la secuencia correspondiente.\n",
    "#### 4. Format y escritura en el archivo FASTA: Dentro del bucle, realizamos las siguientes acciones:\n",
    "##### a) Para poner la secuencia en mayúsculas usamos sequence.upper().\n",
    "##### b) Eliminamos cualquier carácter que no sea 'A', 'T', 'G' o 'C' de la secuencia usando  .replace().\n",
    "##### c) Escribimos la línea de encabezado FASTA que comienza con '>' y contiene el identificador.\n",
    "##### d) Escribimos la secuencia en la línea siguiente."
   ]
  },
  {
   "cell_type": "markdown",
   "metadata": {},
   "source": [
    "##\n",
    "### 5.- ELIMINA ADAPTADORES\n",
    "#### El archivo input.txt tiene unas secuencias de ADN, una por línea. \n",
    "#### Todas las secuencias empiezan con el mismo adaptador que llega hasta la base 14. Escribe un programa que:\n",
    "1. Remueva el adaptador de la secuencia y escriba la secuencia limpia en un archivo\n",
    "2. Imprima en pantalla la longitud de cada secuencia limpia"
   ]
  },
  {
   "cell_type": "code",
   "execution_count": 38,
   "metadata": {},
   "outputs": [
    {
     "name": "stdout",
     "output_type": "stream",
     "text": [
      "Lenght of sequence 1: 42\n",
      "Lenght of sequence 2: 37\n",
      "Lenght of sequence 3: 48\n",
      "Lenght of sequence 4: 33\n",
      "Lenght of sequence 5: 47\n",
      "The clean sequences are saved in 'secuencias_limpias.txt'.\n"
     ]
    }
   ],
   "source": [
    "# 1\n",
    "input_file = \"input.txt\"\n",
    "output_file = \"secuencias_limpias.txt\"\n",
    "\n",
    "# 2\n",
    "def remove_adapter(sequence):\n",
    "    return sequence[14:]\n",
    "\n",
    "# 3\n",
    "clean_sequences = []\n",
    "longitudes = []\n",
    "\n",
    "# 4, 5, 6\n",
    "with open(input_file, \"r\") as file:\n",
    "    for line in file:\n",
    "        sequence = line.strip()\n",
    "        cleaned_sequence = remove_adapter(sequence)\n",
    "        clean_sequences.append(cleaned_sequence)\n",
    "        longitudes.append(len(cleaned_sequence))\n",
    "\n",
    "# 7, 8      \n",
    "with open(output_file, \"w\") as output:\n",
    "    for sequence in clean_sequences:\n",
    "        output.write(sequence + \"\\n\")\n",
    "\n",
    "# 9\n",
    "for i, length in enumerate(longitudes):\n",
    "    print(f\"Lenght of sequence {i + 1}: {length}\")\n",
    "\n",
    "# 10 \n",
    "print(f\"The clean sequences are saved in '{output_file}'.\")"
   ]
  },
  {
   "cell_type": "markdown",
   "metadata": {},
   "source": [
    "### Pasos \n",
    "#### 1. Definimos los nombres de los archivos  \n",
    "#### 2. Usamos la funcion \"remove_adapter\", coge una secuencia y elimina los primeros 14 caracteres (el adaptador).\n",
    "#### 3. Hacemos listas para almacenar las secuencias limpias y sus longitudes\n",
    "#### 4. Abrimos el archivo de entrada (\"input_file\") en modo lectura (\"r\"). Utilizamos el bucle \"for\" para recorrer cada línea del archivo.\n",
    "#### 5. line.strip() elimina los espacios en blanco y saltos y lo guardamos en la variable \"sequence\".\n",
    "#### 6. Con \"remove_adapter(sequence)\" eliminamos el adaptador y guardamos la secuencia limpia en \"secuencias_limpias\".\n",
    "#### 7. Abrimos el archivo de salida (\"output_file\") con (\"w\").\n",
    "#### 8. Utilizamos el bucle \"for\" para escribir cada secuencia limpia en una línea del archivo.\n",
    "#### 9. Utilizamos un bucle \"for\" para imprimir las longitudes de las secuencias limpias con un mensaje que indica a qué secuencia corresponden.\n",
    "#### 10. Imprimimos el mensaje que indica que las secuencias limpias se han guardado en el archivo de salida (\"secuencias_limpias.txt\") (Como confirmación)"
   ]
  },
  {
   "cell_type": "markdown",
   "metadata": {},
   "source": [
    "##\n",
    "### 6.- PORCENTAJE DE AMINO ACIDOS\n",
    "#### Escribe una función que tome dos argumentos: una secuencia de proteínas y un amino ácido. \n",
    "#### Queremos que devuelva el porcentaje del amino ácido en la secuencia de proteínas. \n",
    "#### Una vez que tengas hecha tu función, emplea las siguientes aserciones para comprobar tu código."
   ]
  },
  {
   "cell_type": "code",
   "execution_count": 47,
   "metadata": {},
   "outputs": [],
   "source": [
    "assert my_function(\"MSRSLLLRFLLFLLLLPPLP\", \"M\") == 5\n",
    "assert my_function(\"MSRSLLLRFLLFLLLLPPLP\", \"r\") == 10\n",
    "assert my_function(\"msrslllrfllfllllpplp\", \"L\") == 50\n",
    "assert my_function(\"MSRSLLLRFLLFLLLLPPLP\", \"Y\") == 0"
   ]
  },
  {
   "cell_type": "code",
   "execution_count": 50,
   "metadata": {},
   "outputs": [
    {
     "name": "stdout",
     "output_type": "stream",
     "text": [
      "Percentage of 'M' in sequence: 5.0%\n",
      "\n",
      "\n",
      "Percentage of 'r' in sequence: 10.0%\n",
      "\n",
      "\n",
      "Percetage of 'L' in sequence: 50.0%\n",
      "\n",
      "\n",
      "Percentage of 'y' in sequence: 0.0%\n"
     ]
    }
   ],
   "source": [
    "# 1\n",
    "def calculate_percentage_aminoacid(seq_protein, aminoacid):\n",
    "    seq_protein = seq_protein.upper()\n",
    "    aminoacid = aminoacid.upper()\n",
    "    \n",
    "    # 2\n",
    "    aminoacid_count = seq_protein.count(aminoacid)\n",
    "    \n",
    "    # 3\n",
    "    percentage = (aminoacid_count / len(seq_protein)) * 100\n",
    "    \n",
    "    return percentage\n",
    "\n",
    "# 4, 5, 6\n",
    "assert calculate_percentage_aminoacid(\"MSRSLLLRFLLFLLLLPPLP\", \"M\") == 5\n",
    "result = calculate_percentage_aminoacid(\"MSRSLLLRFLLFLLLLPPLP\", \"M\")\n",
    "assert result == 5\n",
    "print(f\"Percentage of 'M' in sequence: {result}%\")\n",
    "print(\"\\n\")\n",
    "\n",
    "assert calculate_percentage_aminoacid(\"MSRSLLLRFLLFLLLLPPLP\", \"r\") == 10\n",
    "result = calculate_percentage_aminoacid(\"MSRSLLLRFLLFLLLLPPLP\", \"r\")\n",
    "assert result == 10\n",
    "print(f\"Percentage of 'r' in sequence: {result}%\")\n",
    "print(\"\\n\")\n",
    "\n",
    "assert calculate_percentage_aminoacid(\"MSRSLLLRFLLFLLLLPPLP\", \"L\") == 50\n",
    "result = calculate_percentage_aminoacid(\"MSRSLLLRFLLFLLLLPPLP\", \"L\")\n",
    "assert result == 50\n",
    "print(f\"Percetage of 'L' in sequence: {result}%\")\n",
    "print(\"\\n\")\n",
    "\n",
    "assert calculate_percentage_aminoacid(\"MSRSLLLRFLLFLLLLPPLP\", \"Y\") == 0\n",
    "result = calculate_percentage_aminoacid(\"MSRSLLLRFLLFLLLLPPLP\", \"Y\")\n",
    "assert result == 0\n",
    "print(f\"Percentage of 'y' in sequence: {result}%\")"
   ]
  },
  {
   "cell_type": "markdown",
   "metadata": {},
   "source": [
    "### Pasos \n",
    "#### 1. Creamos una función \"calculate_percentage_aminoacid\" que usa dos argumentos (\"seq_protein, aminoacid\"). Convertimos la secuencia de proteínas a mayúsculas para que a la hora de analizar los datos haya una comparación sin distinción entre mayúsuclas y munúsculas. \n",
    "#### 2. Contamos el aminoácido en la secuencia con la función count \n",
    "#### 3. Calculamos el porcentaje, dividimos el conteo por la longitud de la secuencia x 100. Usamos la función return para que nos devuelva el resultado \n",
    "#### 4. Comprobamos la función con las 'aserciones'. Estas verifican si la función devuelve el valor esperado, si no devuelve el valor esperado nos dará un error. \n",
    "#### 5. Imprimimos el resultado \n",
    "#### 6. Repetimos con todas las aserciones"
   ]
  },
  {
   "cell_type": "code",
   "execution_count": null,
   "metadata": {},
   "outputs": [],
   "source": []
  }
 ],
 "metadata": {
  "kernelspec": {
   "display_name": "Python 3 (ipykernel)",
   "language": "python",
   "name": "python3"
  },
  "language_info": {
   "codemirror_mode": {
    "name": "ipython",
    "version": 3
   },
   "file_extension": ".py",
   "mimetype": "text/x-python",
   "name": "python",
   "nbconvert_exporter": "python",
   "pygments_lexer": "ipython3",
   "version": "3.11.4"
  }
 },
 "nbformat": 4,
 "nbformat_minor": 4
}

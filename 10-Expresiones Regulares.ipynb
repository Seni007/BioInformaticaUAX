{
 "cells": [
  {
   "cell_type": "markdown",
   "metadata": {},
   "source": [
    "# EXPRESIONES REGULARES"
   ]
  },
  {
   "cell_type": "code",
   "execution_count": 1,
   "metadata": {},
   "outputs": [],
   "source": [
    "# El módulo re contiene los métodos necesarios para analizar y buscar expresiones regulares en Python\n",
    "import re"
   ]
  },
  {
   "cell_type": "code",
   "execution_count": null,
   "metadata": {},
   "outputs": [],
   "source": [
    "# re.search(pattern,string)\n",
    "# r se usa para que Python ignore caracteres especiales"
   ]
  },
  {
   "cell_type": "code",
   "execution_count": 2,
   "metadata": {},
   "outputs": [
    {
     "name": "stdout",
     "output_type": "stream",
     "text": [
      "Not site found!\n"
     ]
    }
   ],
   "source": [
    "dna = \"ATCGCGAATTCAC\"\n",
    "if re.search(r\"GAF\", dna):\n",
    "    print(\"restriction enzyme site found!\")\n",
    "else:\n",
    "    print(\"Not site found!\")"
   ]
  },
  {
   "cell_type": "code",
   "execution_count": 3,
   "metadata": {},
   "outputs": [
    {
     "name": "stdout",
     "output_type": "stream",
     "text": [
      "restriction enzyme site found!\n"
     ]
    }
   ],
   "source": [
    "# Alternaciones\n",
    "dna = \"ATCGCGAATTCAC\"\n",
    "if re.search(r\"ATT\", dna) or re.search(r\"CGAA\", dna):\n",
    "    print(\"restriction enzyme site found!\")"
   ]
  },
  {
   "cell_type": "code",
   "execution_count": 4,
   "metadata": {},
   "outputs": [
    {
     "name": "stdout",
     "output_type": "stream",
     "text": [
      "restriction enzyme site found!\n"
     ]
    }
   ],
   "source": [
    "dna = \"ATCGCGAATTCAC\"\n",
    "if re.search(r\"GC(G|C)AATT\", dna):\n",
    "    print(\"restriction enzyme site found!\")"
   ]
  },
  {
   "cell_type": "code",
   "execution_count": 5,
   "metadata": {},
   "outputs": [
    {
     "name": "stdout",
     "output_type": "stream",
     "text": [
      "restriction enzyme site found!\n"
     ]
    }
   ],
   "source": [
    "# Grupos de caracteres\n",
    "dna = \"ATCGCGGCAATTCAC\"\n",
    "if re.search(r\"GC(A|T|G|C)GC\", dna):\n",
    "    print(\"restriction enzyme site found!\")"
   ]
  },
  {
   "cell_type": "code",
   "execution_count": 6,
   "metadata": {},
   "outputs": [
    {
     "name": "stdout",
     "output_type": "stream",
     "text": [
      "restriction enzyme site found!\n"
     ]
    }
   ],
   "source": [
    "dna = \"ATCGCGGCAATTCAC\"\n",
    "if re.search(r\"GC[ATGC]GC\", dna):\n",
    "    print(\"restriction enzyme site found!\")\t"
   ]
  },
  {
   "cell_type": "code",
   "execution_count": 7,
   "metadata": {},
   "outputs": [
    {
     "name": "stdout",
     "output_type": "stream",
     "text": [
      "restriction enzyme site found!\n"
     ]
    }
   ],
   "source": [
    "# Negaciones (GC y cyalquier cosa que NO sea N)\n",
    "dna = \"ATCGCGAATTCAC\"\n",
    "if re.search(r\"GC[^N]\", dna):\n",
    "    print(\"restriction enzyme site found!\")"
   ]
  },
  {
   "cell_type": "code",
   "execution_count": 8,
   "metadata": {},
   "outputs": [
    {
     "name": "stdout",
     "output_type": "stream",
     "text": [
      "GACGTAC\n"
     ]
    }
   ],
   "source": [
    "# Extración de parte del patrón en una variable\n",
    "# Función 'group' para extaer datos \n",
    "dna = \"ATGACGTACGTACGACTG\"\n",
    "# guarda los patrones en la variable m\n",
    "# Cualquiera de estas letras repetidas 3 veces \n",
    "m = re.search(r\"GA[ATGC]{3}AC\",dna)\n",
    "m_pattern = m.group()\n",
    "print(m_pattern)"
   ]
  },
  {
   "cell_type": "code",
   "execution_count": 11,
   "metadata": {},
   "outputs": [
    {
     "data": {
      "text/plain": [
       "<re.Match object; span=(2, 9), match='GACGTAC'>"
      ]
     },
     "execution_count": 11,
     "metadata": {},
     "output_type": "execute_result"
    }
   ],
   "source": [
    "m = re.search(r\"GA[ATGC]{3}AC\",dna)\n",
    "m\n",
    "#m_pattern = m.group()\n",
    "#print(m_pattern)"
   ]
  },
  {
   "cell_type": "code",
   "execution_count": 10,
   "metadata": {},
   "outputs": [
    {
     "name": "stdout",
     "output_type": "stream",
     "text": [
      "entire match: GACGTACGTAC\n",
      "first bit: CGT\n",
      "second bit: GT\n"
     ]
    }
   ],
   "source": [
    "# Extrae un más de un bit del patrón\n",
    "# Cuando hay mas de un match \n",
    "dna = \"ATGACGTACGTACGACTG\"\n",
    "m = re.search(r\"GA([ATGC]{3})AC([ATGC]{2})AC\", dna)\n",
    "print(\"entire match: \" + m.group())\n",
    "print(\"first bit: \" + m.group(1))\n",
    "print(\"second bit: \" + m.group(2))"
   ]
  },
  {
   "cell_type": "code",
   "execution_count": 12,
   "metadata": {},
   "outputs": [
    {
     "name": "stdout",
     "output_type": "stream",
     "text": [
      "input string: ATGACGTACGTACGACTG\n",
      "entire match: GACGTACGTAC\n"
     ]
    }
   ],
   "source": [
    "# Algunos métodos\n",
    "dna = \"ATGACGTACGTACGACTG\"\n",
    "m = re.search(r\"GA([ATGC]{3})AC([ATGC]{2})AC\", dna)\n",
    "print(\"input string: \" + dna)\n",
    "print(\"entire match: \" + m.group())"
   ]
  },
  {
   "cell_type": "code",
   "execution_count": 14,
   "metadata": {},
   "outputs": [
    {
     "name": "stdout",
     "output_type": "stream",
     "text": [
      "start: 2\n"
     ]
    }
   ],
   "source": [
    "# Start()\n",
    "print(\"start: \" + str(m.start()))"
   ]
  },
  {
   "cell_type": "code",
   "execution_count": 15,
   "metadata": {},
   "outputs": [
    {
     "name": "stdout",
     "output_type": "stream",
     "text": [
      "end: 13\n"
     ]
    }
   ],
   "source": [
    "# End()\n",
    "print(\"end: \" + str(m.end()))"
   ]
  },
  {
   "cell_type": "code",
   "execution_count": null,
   "metadata": {},
   "outputs": [],
   "source": [
    "# Split()\n",
    "# Se separa en las C pero se borran \n",
    "dna = \"ACTNGCATRGCTACGTYACGATSCGAWTCG\"\n",
    "runs = re.split(r\"C\", dna)\n",
    "print(runs)\t"
   ]
  },
  {
   "cell_type": "code",
   "execution_count": null,
   "metadata": {},
   "outputs": [],
   "source": [
    "# Extraer  usando group()\n",
    "dna = \"ATGACGTACGTACGACTG\"\n",
    "m = re.search(r\"GA([ATGC]{3})AC([ATGC]{2})AC\", dna)\n",
    "print(\"input string: \" + dna)\n",
    "print(\"entire match: \" + m.group())\n",
    "print(\"first bit: \" + m.group(1))\n",
    "print(\"second bit: \" + m.group(2))"
   ]
  },
  {
   "cell_type": "code",
   "execution_count": 16,
   "metadata": {},
   "outputs": [
    {
     "name": "stdout",
     "output_type": "stream",
     "text": [
      "N found at position 5\n",
      "R found at position 15\n",
      "Y found at position 25\n"
     ]
    }
   ],
   "source": [
    "# Finditer() detecta las bases erróneas \n",
    "dna = \"CGCTCNTAGATGCGCRATGACTGCAYTGC\" \n",
    "\n",
    "matches = re.finditer(r\"[^ATGC]\", dna) \n",
    "for m in matches: \n",
    "    base = m.group() \n",
    "    pos  = m.start() \n",
    "    print(base + \" found at position \" + str(pos))"
   ]
  },
  {
   "cell_type": "code",
   "execution_count": 17,
   "metadata": {},
   "outputs": [
    {
     "name": "stdout",
     "output_type": "stream",
     "text": [
      "La base N está en la posición 5\n",
      "La base R está en la posición 15\n",
      "La base Y está en la posición 25\n"
     ]
    }
   ],
   "source": [
    "dna = \"CGCTCNTAGATGCGCRATGACTGCAYTGC\" \n",
    "\n",
    "matches = re.finditer(r\"[^ATGC]\", dna) \n",
    "\n",
    "for i in matches:\n",
    "    match = i.group()\n",
    "    pos = i.start()\n",
    "    print(f\"La base {match} está en la posición {pos}\")"
   ]
  },
  {
   "cell_type": "code",
   "execution_count": 18,
   "metadata": {},
   "outputs": [
    {
     "name": "stdout",
     "output_type": "stream",
     "text": [
      "['ATTATAT', 'AAATTATA']\n"
     ]
    }
   ],
   "source": [
    "# Findall()\n",
    "# Encontrar todas las matches en toda la secuencia \n",
    "dna = \"CTGCATTATATCGTACGAAATTATACGCGCG\" \n",
    "result = re.findall(r\"[AT]{6,}\", dna) \n",
    "print(result)"
   ]
  }
 ],
 "metadata": {
  "kernelspec": {
   "display_name": "Python 3 (ipykernel)",
   "language": "python",
   "name": "python3"
  },
  "language_info": {
   "codemirror_mode": {
    "name": "ipython",
    "version": 3
   },
   "file_extension": ".py",
   "mimetype": "text/x-python",
   "name": "python",
   "nbconvert_exporter": "python",
   "pygments_lexer": "ipython3",
   "version": "3.11.4"
  }
 },
 "nbformat": 4,
 "nbformat_minor": 4
}

{
 "cells": [
  {
   "cell_type": "markdown",
   "id": "985e6f9b",
   "metadata": {},
   "source": [
    "# PRACTICA 6\n",
    "\n",
    "### ¡Con todo lo aprendido con Python, vamos a resolver unos ejercicios de Bioinformática!\n",
    "\n",
    "#### 1.- Concatena las cadenas ATGCC y TCCG"
   ]
  },
  {
   "cell_type": "code",
   "execution_count": 1,
   "id": "e00eca4b",
   "metadata": {},
   "outputs": [],
   "source": [
    "a=\"ATGCC\"\n",
    "b=\"TCCG\""
   ]
  },
  {
   "cell_type": "code",
   "execution_count": 2,
   "id": "f027e5c5",
   "metadata": {},
   "outputs": [
    {
     "data": {
      "text/plain": [
       "'ATGCCTCCG'"
      ]
     },
     "execution_count": 2,
     "metadata": {},
     "output_type": "execute_result"
    }
   ],
   "source": [
    "a + b"
   ]
  },
  {
   "cell_type": "markdown",
   "id": "1f4b7708",
   "metadata": {},
   "source": [
    "#### 2.- ¿Cuál es la longitud de ATGCGAGT?"
   ]
  },
  {
   "cell_type": "code",
   "execution_count": 3,
   "id": "8f78cad8",
   "metadata": {},
   "outputs": [],
   "source": [
    "dna=\"ATGCGAGT\""
   ]
  },
  {
   "cell_type": "code",
   "execution_count": 4,
   "id": "97d7c583",
   "metadata": {},
   "outputs": [
    {
     "data": {
      "text/plain": [
       "8"
      ]
     },
     "execution_count": 4,
     "metadata": {},
     "output_type": "execute_result"
    }
   ],
   "source": [
    "len(dna)"
   ]
  },
  {
   "cell_type": "markdown",
   "id": "6361c287",
   "metadata": {},
   "source": [
    "#### 3.- Con la cadena mgXDyTw, ponla en mayúsculas, luego en minúsculas. Extrae su longitud y divide la cadena por la letra \"g\""
   ]
  },
  {
   "cell_type": "code",
   "execution_count": 5,
   "id": "b69beca1",
   "metadata": {},
   "outputs": [],
   "source": [
    "cadena=\"mgXDyTw\""
   ]
  },
  {
   "cell_type": "code",
   "execution_count": 9,
   "id": "97dca0c7",
   "metadata": {},
   "outputs": [
    {
     "data": {
      "text/plain": [
       "'MGXDYTW'"
      ]
     },
     "execution_count": 9,
     "metadata": {},
     "output_type": "execute_result"
    }
   ],
   "source": [
    "cadena.upper()"
   ]
  },
  {
   "cell_type": "code",
   "execution_count": 14,
   "id": "7779d0ef",
   "metadata": {},
   "outputs": [
    {
     "data": {
      "text/plain": [
       "'mgxdytw'"
      ]
     },
     "execution_count": 14,
     "metadata": {},
     "output_type": "execute_result"
    }
   ],
   "source": [
    "cadena_min=cadena.lower()\n",
    "cadena_min"
   ]
  },
  {
   "cell_type": "code",
   "execution_count": 11,
   "id": "9f0dff87",
   "metadata": {},
   "outputs": [
    {
     "data": {
      "text/plain": [
       "7"
      ]
     },
     "execution_count": 11,
     "metadata": {},
     "output_type": "execute_result"
    }
   ],
   "source": [
    "len(cadena)"
   ]
  },
  {
   "cell_type": "code",
   "execution_count": 15,
   "id": "3d53e2df",
   "metadata": {},
   "outputs": [
    {
     "data": {
      "text/plain": [
       "['m', 'xdytw']"
      ]
     },
     "execution_count": 15,
     "metadata": {},
     "output_type": "execute_result"
    }
   ],
   "source": [
    "cadena_min.split(\"g\")"
   ]
  },
  {
   "cell_type": "markdown",
   "id": "91c2ca9d",
   "metadata": {},
   "source": [
    "#### 4.- Con la secuencia de aminoácidos vlspadktnv, reemplaza la valina con la tirosina. Pista: usa replace()"
   ]
  },
  {
   "cell_type": "code",
   "execution_count": 16,
   "id": "a049ecdd",
   "metadata": {},
   "outputs": [],
   "source": [
    "aa = \"vlspadktnv\""
   ]
  },
  {
   "cell_type": "code",
   "execution_count": 19,
   "id": "03278ad2",
   "metadata": {},
   "outputs": [
    {
     "data": {
      "text/plain": [
       "'ylspadktny'"
      ]
     },
     "execution_count": 19,
     "metadata": {},
     "output_type": "execute_result"
    }
   ],
   "source": [
    "aa_replaced=aa.replace(\"v\",\"y\")\n",
    "aa_replaced"
   ]
  },
  {
   "cell_type": "markdown",
   "id": "97f9ecd6",
   "metadata": {},
   "source": [
    "#### 5.- Cuenta las valinas de la secuencia original anterior."
   ]
  },
  {
   "cell_type": "code",
   "execution_count": 21,
   "id": "5a0beecf",
   "metadata": {},
   "outputs": [
    {
     "name": "stdout",
     "output_type": "stream",
     "text": [
      "Valines: 2\n"
     ]
    }
   ],
   "source": [
    "valines = aa.count(\"v\")\n",
    "print(f'Valines: {valines}')"
   ]
  },
  {
   "cell_type": "code",
   "execution_count": null,
   "id": "aa7397db",
   "metadata": {},
   "outputs": [],
   "source": []
  },
  {
   "cell_type": "markdown",
   "id": "6aac8e24",
   "metadata": {},
   "source": [
    "#### 6.- Con el diccionario siguiente imprime el valor de BisI y saca el valor de EcoRI con pop(). ¿Qué pasa con el diccionario?"
   ]
  },
  {
   "cell_type": "code",
   "execution_count": 22,
   "id": "c0c811d7",
   "metadata": {},
   "outputs": [],
   "source": [
    "enzR = {\n",
    "    'EcoRI':r'GAATTC',\n",
    "    'AvaII':r'GG(A|T)CC',\n",
    "    'BisI':r'GC[ATGC]GC'\n",
    "}"
   ]
  },
  {
   "cell_type": "code",
   "execution_count": 23,
   "id": "df579fe4",
   "metadata": {},
   "outputs": [
    {
     "data": {
      "text/plain": [
       "'GC[ATGC]GC'"
      ]
     },
     "execution_count": 23,
     "metadata": {},
     "output_type": "execute_result"
    }
   ],
   "source": [
    "enzR['BisI']"
   ]
  },
  {
   "cell_type": "code",
   "execution_count": 24,
   "id": "a273e733",
   "metadata": {
    "scrolled": false
   },
   "outputs": [
    {
     "data": {
      "text/plain": [
       "'GAATTC'"
      ]
     },
     "execution_count": 24,
     "metadata": {},
     "output_type": "execute_result"
    }
   ],
   "source": [
    "enzR.pop('EcoRI') #Pop extrae el elemento, lo perdemos del diccionario "
   ]
  },
  {
   "cell_type": "code",
   "execution_count": 25,
   "id": "42e085b2",
   "metadata": {},
   "outputs": [
    {
     "data": {
      "text/plain": [
       "{'AvaII': 'GG(A|T)CC', 'BisI': 'GC[ATGC]GC'}"
      ]
     },
     "execution_count": 25,
     "metadata": {},
     "output_type": "execute_result"
    }
   ],
   "source": [
    "enzR"
   ]
  },
  {
   "cell_type": "markdown",
   "id": "4646bddd",
   "metadata": {},
   "source": [
    "#### 7.- Con la secuencia y la lista siguiente, escribe un algoritmo que cuente el número de veces que aparece un elemento de la lista en la secuencia. Pista: hacer un diccionario para almacenar los resultados puede ser buena idea"
   ]
  },
  {
   "cell_type": "code",
   "execution_count": 26,
   "id": "0a701a5e",
   "metadata": {},
   "outputs": [],
   "source": [
    "dna = \"AATGATGAACGAC\" \n",
    "dinucleotides = ['AA','AT','AG','AC', \n",
    "                 'TA','TT','TG','TC', \n",
    "                 'GA','GT','GG','GC', \n",
    "                 'CA','CT','CG','CT'] "
   ]
  },
  {
   "cell_type": "code",
   "execution_count": 27,
   "id": "a64eb307",
   "metadata": {
    "scrolled": true
   },
   "outputs": [
    {
     "name": "stdout",
     "output_type": "stream",
     "text": [
      "AA\n",
      "AT\n",
      "AG\n",
      "AC\n",
      "TA\n",
      "TT\n",
      "TG\n",
      "TC\n",
      "GA\n",
      "GT\n",
      "GG\n",
      "GC\n",
      "CA\n",
      "CT\n",
      "CG\n",
      "CT\n"
     ]
    }
   ],
   "source": [
    "for dnt in dinucleotides: \n",
    "    print(dnt)"
   ]
  },
  {
   "cell_type": "code",
   "execution_count": 28,
   "id": "d949f894",
   "metadata": {
    "scrolled": true
   },
   "outputs": [
    {
     "name": "stdout",
     "output_type": "stream",
     "text": [
      "AA\n",
      "2\n",
      "AT\n",
      "2\n",
      "AG\n",
      "0\n",
      "AC\n",
      "2\n",
      "TA\n",
      "0\n",
      "TT\n",
      "0\n",
      "TG\n",
      "2\n",
      "TC\n",
      "0\n",
      "GA\n",
      "3\n",
      "GT\n",
      "0\n",
      "GG\n",
      "0\n",
      "GC\n",
      "0\n",
      "CA\n",
      "0\n",
      "CT\n",
      "0\n",
      "CG\n",
      "1\n",
      "CT\n",
      "0\n"
     ]
    }
   ],
   "source": [
    "for dnt in dinucleotides:\n",
    "    conteo = dna.count(dnt)\n",
    "    print(dnt)\n",
    "    print (conteo)"
   ]
  },
  {
   "cell_type": "code",
   "execution_count": 38,
   "id": "59c538e3",
   "metadata": {},
   "outputs": [
    {
     "data": {
      "text/plain": [
       "{'AA': 2,\n",
       " 'AT': 2,\n",
       " 'AG': 0,\n",
       " 'AC': 2,\n",
       " 'TA': 0,\n",
       " 'TT': 0,\n",
       " 'TG': 2,\n",
       " 'TC': 0,\n",
       " 'GA': 3,\n",
       " 'GT': 0,\n",
       " 'GG': 0,\n",
       " 'GC': 0,\n",
       " 'CA': 0,\n",
       " 'CT': 0,\n",
       " 'CG': 1}"
      ]
     },
     "execution_count": 38,
     "metadata": {},
     "output_type": "execute_result"
    }
   ],
   "source": [
    "dict_dnt = {}\n",
    "for dnt in dinucleotides:\n",
    "    conteo = dna.count(dnt)\n",
    "    dict_dnt[dnt] = conteo\n",
    "dict_dnt"
   ]
  },
  {
   "cell_type": "markdown",
   "id": "a44b5e4c",
   "metadata": {},
   "source": [
    "##### ¿Cuántos counts tiene TC?"
   ]
  },
  {
   "cell_type": "code",
   "execution_count": 39,
   "id": "74cea684",
   "metadata": {},
   "outputs": [
    {
     "data": {
      "text/plain": [
       "0"
      ]
     },
     "execution_count": 39,
     "metadata": {},
     "output_type": "execute_result"
    }
   ],
   "source": [
    "dict_dnt['TC']"
   ]
  },
  {
   "cell_type": "markdown",
   "id": "70245f18",
   "metadata": {},
   "source": [
    "##### ¿Puedes imprimir los dinuleótidos que tengan counts igual a 2?"
   ]
  },
  {
   "cell_type": "code",
   "execution_count": 42,
   "id": "2b08b387",
   "metadata": {},
   "outputs": [
    {
     "name": "stdout",
     "output_type": "stream",
     "text": [
      "La key AA tiene el valor 2\n",
      "La key AT tiene el valor 2\n",
      "La key AG tiene el valor 0\n",
      "La key AC tiene el valor 2\n",
      "La key TA tiene el valor 0\n",
      "La key TT tiene el valor 0\n",
      "La key TG tiene el valor 2\n",
      "La key TC tiene el valor 0\n",
      "La key GA tiene el valor 3\n",
      "La key GT tiene el valor 0\n",
      "La key GG tiene el valor 0\n",
      "La key GC tiene el valor 0\n",
      "La key CA tiene el valor 0\n",
      "La key CT tiene el valor 0\n",
      "La key CG tiene el valor 1\n"
     ]
    }
   ],
   "source": [
    "for key in dict_dnt.keys():\n",
    "    valor=dict_dnt[key]\n",
    "    print(f'La key {key} tiene el valor {valor}')"
   ]
  },
  {
   "cell_type": "code",
   "execution_count": 43,
   "id": "1384eec9",
   "metadata": {},
   "outputs": [
    {
     "name": "stdout",
     "output_type": "stream",
     "text": [
      "La key AA tiene el valor 2\n",
      "La key AT tiene el valor 2\n",
      "La key AC tiene el valor 2\n",
      "La key TG tiene el valor 2\n"
     ]
    }
   ],
   "source": [
    "for key in dict_dnt.keys():\n",
    "    valor=dict_dnt[key]\n",
    "    if valor == 2:\n",
    "        print(f'La key {key} tiene el valor {valor}')"
   ]
  },
  {
   "cell_type": "code",
   "execution_count": 40,
   "id": "72ee631f",
   "metadata": {
    "scrolled": false
   },
   "outputs": [
    {
     "name": "stdout",
     "output_type": "stream",
     "text": [
      "AA\n",
      "AC\n",
      "AT\n",
      "TG\n"
     ]
    }
   ],
   "source": [
    "for i in sorted(dict_dnt.keys()):\n",
    "    if dict_dnt[i]==2:\n",
    "        print(i)"
   ]
  },
  {
   "cell_type": "markdown",
   "id": "28748e51",
   "metadata": {},
   "source": [
    "##### 8.- Abre el fichero dna.txt, guarda una lista del contenido del archivo. Devuelve su longitud y su primer caracter"
   ]
  },
  {
   "cell_type": "code",
   "execution_count": 52,
   "id": "2d430f33",
   "metadata": {},
   "outputs": [],
   "source": [
    "file=open(\"dna.txt\")"
   ]
  },
  {
   "cell_type": "code",
   "execution_count": 46,
   "id": "eb2a41e2",
   "metadata": {},
   "outputs": [
    {
     "data": {
      "text/plain": [
       "<_io.TextIOWrapper name='dna.txt' mode='r' encoding='UTF-8'>"
      ]
     },
     "execution_count": 46,
     "metadata": {},
     "output_type": "execute_result"
    }
   ],
   "source": [
    "file #Para poder leer nuestro archivo hay que usar readlines "
   ]
  },
  {
   "cell_type": "code",
   "execution_count": 53,
   "id": "e6703156",
   "metadata": {},
   "outputs": [],
   "source": [
    "all_lines = file.readlines()"
   ]
  },
  {
   "cell_type": "code",
   "execution_count": 50,
   "id": "8349f9f1",
   "metadata": {},
   "outputs": [],
   "source": [
    "file.close()"
   ]
  },
  {
   "cell_type": "code",
   "execution_count": 54,
   "id": "acd0a02c",
   "metadata": {},
   "outputs": [
    {
     "data": {
      "text/plain": [
       "['ATCGATCGATCGATCGACTGACTAGTCATAGCTATGCATGTAGCTACTCGATCGATCGATCGATCGATCGATCGATCGATCGATCATGCTATCATCGATCGATATCGATGCATCGACTACTAT']"
      ]
     },
     "execution_count": 54,
     "metadata": {},
     "output_type": "execute_result"
    }
   ],
   "source": [
    "all_lines"
   ]
  },
  {
   "cell_type": "code",
   "execution_count": 59,
   "id": "e5b87646",
   "metadata": {},
   "outputs": [
    {
     "data": {
      "text/plain": [
       "123"
      ]
     },
     "execution_count": 59,
     "metadata": {},
     "output_type": "execute_result"
    }
   ],
   "source": [
    "len(all_lines[0])\n"
   ]
  },
  {
   "cell_type": "code",
   "execution_count": 62,
   "id": "c29d3fca",
   "metadata": {},
   "outputs": [
    {
     "data": {
      "text/plain": [
       "'ATCGATCGATCGATCGACTGACTAGTCATAGCTATGCATGTAGCTACTCGATCGATCGATCGATCGATCGATCGATCGATCGATCATGCTATCATCGATCGATATCGATGCATCGACTACTAT'"
      ]
     },
     "execution_count": 62,
     "metadata": {},
     "output_type": "execute_result"
    }
   ],
   "source": [
    "cadena_dna=all_lines[0]\n",
    "cadena_dna"
   ]
  },
  {
   "cell_type": "code",
   "execution_count": 63,
   "id": "d6666b5d",
   "metadata": {},
   "outputs": [
    {
     "data": {
      "text/plain": [
       "'A'"
      ]
     },
     "execution_count": 63,
     "metadata": {},
     "output_type": "execute_result"
    }
   ],
   "source": [
    "cadena_dna[0]"
   ]
  },
  {
   "cell_type": "markdown",
   "id": "9b87396a",
   "metadata": {},
   "source": [
    "##### 9.- Crea dos archivos. Uno almacena los accession que empiezen por 'a' y el otro el resto"
   ]
  },
  {
   "cell_type": "code",
   "execution_count": 74,
   "id": "73957856",
   "metadata": {},
   "outputs": [],
   "source": [
    "accs = ['ab56', 'bh84', 'hv76', 'ay93', 'ap97', 'bd72']"
   ]
  },
  {
   "cell_type": "code",
   "execution_count": 75,
   "id": "aafa79df",
   "metadata": {},
   "outputs": [],
   "source": [
    "file1 = open (\"acc_a.txt\", \"w\")\n",
    "file2 = open (\"acc_resto.txt\", \"w\")"
   ]
  },
  {
   "cell_type": "code",
   "execution_count": 76,
   "id": "f4472ce0",
   "metadata": {
    "scrolled": true
   },
   "outputs": [
    {
     "name": "stdout",
     "output_type": "stream",
     "text": [
      "ab56\n",
      "ay93\n",
      "ap97\n"
     ]
    }
   ],
   "source": [
    "for acc in accs: \n",
    "    if acc.startswith(\"a\"): \n",
    "        print(acc)"
   ]
  },
  {
   "cell_type": "code",
   "execution_count": 77,
   "id": "d0f6f721",
   "metadata": {},
   "outputs": [
    {
     "name": "stdout",
     "output_type": "stream",
     "text": [
      "ab56\n",
      "bh84\n",
      "hv76\n",
      "ay93\n",
      "ap97\n",
      "bd72\n"
     ]
    }
   ],
   "source": [
    "for acc in accs: \n",
    "    if acc.startswith(\"a\"): \n",
    "        file1.write(acc + \"\\n\")\n",
    "    else: \n",
    "        file2.write(acc + \"\\n\")\n",
    "        print(acc)"
   ]
  },
  {
   "cell_type": "markdown",
   "id": "9cbb4adf",
   "metadata": {},
   "source": [
    "##### 10.- Imprime solamente los accessions de la lista anterior que empiecen por 'a' y no acaben con '6'. Pista: usa endswith() y startswidth()"
   ]
  },
  {
   "cell_type": "code",
   "execution_count": 78,
   "id": "2465a22c",
   "metadata": {},
   "outputs": [
    {
     "name": "stdout",
     "output_type": "stream",
     "text": [
      "ay93\n",
      "ap97\n"
     ]
    }
   ],
   "source": [
    "for acc in accs:\n",
    "    if acc.startswith('a') and not acc.endswith('6'):\n",
    "        print(acc)"
   ]
  },
  {
   "cell_type": "markdown",
   "id": "42c397b0",
   "metadata": {},
   "source": [
    "##### 11.- Escribe una función que cuente el porcentaje de AT de una secuencia"
   ]
  },
  {
   "cell_type": "code",
   "execution_count": 79,
   "id": "06f579c2",
   "metadata": {},
   "outputs": [],
   "source": [
    "dna = \"AATGATGAACGAC\" "
   ]
  },
  {
   "cell_type": "code",
   "execution_count": 81,
   "id": "77f7e5fa",
   "metadata": {},
   "outputs": [
    {
     "data": {
      "text/plain": [
       "6"
      ]
     },
     "execution_count": 81,
     "metadata": {},
     "output_type": "execute_result"
    }
   ],
   "source": [
    "num_a = dna.count(\"A\")\n",
    "num_a"
   ]
  },
  {
   "cell_type": "code",
   "execution_count": 83,
   "id": "f5f81bf5",
   "metadata": {},
   "outputs": [
    {
     "data": {
      "text/plain": [
       "2"
      ]
     },
     "execution_count": 83,
     "metadata": {},
     "output_type": "execute_result"
    }
   ],
   "source": [
    "num_t = dna.count(\"T\")\n",
    "num_t"
   ]
  },
  {
   "cell_type": "code",
   "execution_count": 85,
   "id": "3f7a3f29",
   "metadata": {},
   "outputs": [
    {
     "data": {
      "text/plain": [
       "13"
      ]
     },
     "execution_count": 85,
     "metadata": {},
     "output_type": "execute_result"
    }
   ],
   "source": [
    "longitud = len(dna)\n",
    "longitud"
   ]
  },
  {
   "cell_type": "code",
   "execution_count": 88,
   "id": "c91486a8",
   "metadata": {},
   "outputs": [
    {
     "data": {
      "text/plain": [
       "8"
      ]
     },
     "execution_count": 88,
     "metadata": {},
     "output_type": "execute_result"
    }
   ],
   "source": [
    "num_at = num_a + num_t\n",
    "num_at"
   ]
  },
  {
   "cell_type": "code",
   "execution_count": 90,
   "id": "27a00121",
   "metadata": {},
   "outputs": [
    {
     "data": {
      "text/plain": [
       "61.53846153846154"
      ]
     },
     "execution_count": 90,
     "metadata": {},
     "output_type": "execute_result"
    }
   ],
   "source": [
    "porcentaje_at = (num_at/longitud)*100\n",
    "porcentaje_at"
   ]
  },
  {
   "cell_type": "code",
   "execution_count": 91,
   "id": "b2980803",
   "metadata": {},
   "outputs": [],
   "source": [
    "def get_at_percentage(secuencia):\n",
    "    num_a = secuencia.count(\"A\")\n",
    "    num_t = secuencia.count(\"T\")\n",
    "    num_at = num_a + num_t\n",
    "    longitud = len(secuencia)\n",
    "    porcentaje_at = (num_at/longitud)*100\n",
    "    return porcentaje_at"
   ]
  },
  {
   "cell_type": "code",
   "execution_count": 92,
   "id": "a8211c99",
   "metadata": {},
   "outputs": [
    {
     "data": {
      "text/plain": [
       "61.53846153846154"
      ]
     },
     "execution_count": 92,
     "metadata": {},
     "output_type": "execute_result"
    }
   ],
   "source": [
    "get_at_percentage(dna)"
   ]
  },
  {
   "cell_type": "code",
   "execution_count": 99,
   "id": "c72af4b9",
   "metadata": {},
   "outputs": [],
   "source": [
    "#Ponemos un solo decimal \n",
    "\n",
    "def get_at_percentage(secuencia):\n",
    "    num_a = secuencia.count(\"A\")\n",
    "    num_t = secuencia.count(\"T\")\n",
    "    num_at = num_a + num_t\n",
    "    longitud = len(secuencia)\n",
    "    porcentaje_at = (num_at/longitud)*100\n",
    "    return round (porcentaje_at,1)"
   ]
  },
  {
   "cell_type": "code",
   "execution_count": 100,
   "id": "1961ffcc",
   "metadata": {},
   "outputs": [
    {
     "data": {
      "text/plain": [
       "61.5"
      ]
     },
     "execution_count": 100,
     "metadata": {},
     "output_type": "execute_result"
    }
   ],
   "source": [
    "get_at_percentage(dna)"
   ]
  },
  {
   "cell_type": "code",
   "execution_count": 102,
   "id": "43bd2415",
   "metadata": {},
   "outputs": [],
   "source": [
    "assert get_at_percentage(\"ATGC\") == 50.0"
   ]
  },
  {
   "cell_type": "markdown",
   "id": "054b8f51",
   "metadata": {},
   "source": [
    "##### ¿Puedes hacer que devuelva dos decimales? ¿Y que lidie con mayúsculas y minúsculas?"
   ]
  },
  {
   "cell_type": "code",
   "execution_count": null,
   "id": "8f81e89e",
   "metadata": {},
   "outputs": [],
   "source": []
  },
  {
   "cell_type": "markdown",
   "id": "36a03b5f",
   "metadata": {},
   "source": [
    "##### ¿Y que devuelva el número de decimales que yo quiero?"
   ]
  },
  {
   "cell_type": "code",
   "execution_count": null,
   "id": "8e895533",
   "metadata": {},
   "outputs": [],
   "source": []
  },
  {
   "cell_type": "markdown",
   "id": "2c811d84",
   "metadata": {},
   "source": [
    "##### ¿Sabes poner un valor por defecto en un argumento?"
   ]
  },
  {
   "cell_type": "code",
   "execution_count": null,
   "id": "e29ec064",
   "metadata": {},
   "outputs": [],
   "source": []
  },
  {
   "cell_type": "markdown",
   "id": "ab2c106c",
   "metadata": {},
   "source": [
    "##### ¿Qué pasa si no ponemos un argumento? ¿Sabrías hacer una función encapsulada?"
   ]
  },
  {
   "cell_type": "code",
   "execution_count": null,
   "id": "2ff9001a",
   "metadata": {},
   "outputs": [],
   "source": []
  },
  {
   "cell_type": "markdown",
   "id": "83af4b0f",
   "metadata": {},
   "source": [
    "##### Testea tu función original con assert"
   ]
  },
  {
   "cell_type": "code",
   "execution_count": 97,
   "id": "4709dfd0",
   "metadata": {},
   "outputs": [
    {
     "ename": "NameError",
     "evalue": "name 'get_at_content' is not defined",
     "output_type": "error",
     "traceback": [
      "\u001b[0;31m---------------------------------------------------------------------------\u001b[0m",
      "\u001b[0;31mNameError\u001b[0m                                 Traceback (most recent call last)",
      "Cell \u001b[0;32mIn[97], line 1\u001b[0m\n\u001b[0;32m----> 1\u001b[0m \u001b[38;5;28;01massert\u001b[39;00m get_at_content(\u001b[38;5;124m\"\u001b[39m\u001b[38;5;124mATGC\u001b[39m\u001b[38;5;124m\"\u001b[39m) \u001b[38;5;241m==\u001b[39m \u001b[38;5;241m0.5\u001b[39m\n",
      "\u001b[0;31mNameError\u001b[0m: name 'get_at_content' is not defined"
     ]
    }
   ],
   "source": []
  }
 ],
 "metadata": {
  "kernelspec": {
   "display_name": "Python 3 (ipykernel)",
   "language": "python",
   "name": "python3"
  },
  "language_info": {
   "codemirror_mode": {
    "name": "ipython",
    "version": 3
   },
   "file_extension": ".py",
   "mimetype": "text/x-python",
   "name": "python",
   "nbconvert_exporter": "python",
   "pygments_lexer": "ipython3",
   "version": "3.11.4"
  }
 },
 "nbformat": 4,
 "nbformat_minor": 5
}
